{
 "cells": [
  {
   "cell_type": "code",
   "execution_count": 1,
   "metadata": {},
   "outputs": [],
   "source": [
    "import torch\n",
    "from torch import nn\n",
    "import numpy as np\n",
    "import pandas as pd\n",
    "import PIL\n",
    "import glob\n",
    "import math\n",
    "import mujoco\n",
    "import os\n",
    "import torchvision\n",
    "import gym\n",
    "#from pyvirtualdisplay import Display\n",
    "import matplotlib.pyplot as plt\n",
    "import copy\n",
    "import time\n",
    "import random"
   ]
  },
  {
   "cell_type": "code",
   "execution_count": 2,
   "metadata": {},
   "outputs": [
    {
     "name": "stderr",
     "output_type": "stream",
     "text": [
      "/home/liu_xu/anaconda3/envs/main_use/lib/python3.7/site-packages/gym/envs/registration.py:556: UserWarning: \u001B[33mWARN: The environment Ant-v3 is out of date. You should consider upgrading to version `v4`.\u001B[0m\n",
      "  f\"The environment {id} is out of date. You should consider \"\n",
      "/home/liu_xu/anaconda3/envs/main_use/lib/python3.7/site-packages/gym/envs/mujoco/mujoco_env.py:191: UserWarning: \u001B[33mWARN: This version of the mujoco environments depends on the mujoco-py bindings, which are no longer maintained and may stop working. Please upgrade to the v4 versions of the environments (which depend on the mujoco python bindings instead), unless you are trying to precisely replicate previous works).\u001B[0m\n",
      "  \"This version of the mujoco environments depends \"\n"
     ]
    }
   ],
   "source": [
    "env=gym.make('Ant-v3')"
   ]
  },
  {
   "cell_type": "code",
   "execution_count": 3,
   "metadata": {},
   "outputs": [
    {
     "data": {
      "text/plain": [
       "(array([ 8.15743740e-01,  9.99723512e-01,  1.19773041e-02,  8.91383966e-03,\n",
       "        -1.81655439e-02,  1.56481906e-02, -9.18385931e-02,  8.87883570e-02,\n",
       "         7.07200791e-03, -8.26357767e-02, -9.45415616e-02,  5.32984153e-02,\n",
       "         8.83151452e-04,  8.60248485e-02, -3.45991553e-02, -2.46695521e-02,\n",
       "         9.11938215e-02,  3.94377071e-02,  1.45547993e-01, -9.15049533e-02,\n",
       "        -5.08683283e-02, -5.52628317e-02,  1.83182720e-03,  3.06489932e-02,\n",
       "        -1.04645115e-01, -4.03597376e-02, -6.89993850e-02,  0.00000000e+00,\n",
       "         0.00000000e+00,  0.00000000e+00,  0.00000000e+00,  0.00000000e+00,\n",
       "         0.00000000e+00,  0.00000000e+00,  0.00000000e+00,  0.00000000e+00,\n",
       "         0.00000000e+00,  0.00000000e+00,  0.00000000e+00,  0.00000000e+00,\n",
       "         0.00000000e+00,  0.00000000e+00,  0.00000000e+00,  0.00000000e+00,\n",
       "         0.00000000e+00,  0.00000000e+00,  0.00000000e+00,  0.00000000e+00,\n",
       "         0.00000000e+00,  0.00000000e+00,  0.00000000e+00,  0.00000000e+00,\n",
       "         0.00000000e+00,  0.00000000e+00,  0.00000000e+00,  0.00000000e+00,\n",
       "         0.00000000e+00,  0.00000000e+00,  0.00000000e+00,  0.00000000e+00,\n",
       "         0.00000000e+00,  0.00000000e+00,  0.00000000e+00,  0.00000000e+00,\n",
       "         0.00000000e+00,  0.00000000e+00,  0.00000000e+00,  0.00000000e+00,\n",
       "         0.00000000e+00,  0.00000000e+00,  0.00000000e+00,  0.00000000e+00,\n",
       "         0.00000000e+00,  0.00000000e+00,  0.00000000e+00,  0.00000000e+00,\n",
       "         0.00000000e+00,  0.00000000e+00,  0.00000000e+00,  0.00000000e+00,\n",
       "         0.00000000e+00,  0.00000000e+00,  0.00000000e+00,  0.00000000e+00,\n",
       "         0.00000000e+00,  0.00000000e+00,  0.00000000e+00,  0.00000000e+00,\n",
       "         0.00000000e+00,  0.00000000e+00,  0.00000000e+00,  0.00000000e+00,\n",
       "         0.00000000e+00,  0.00000000e+00,  0.00000000e+00,  0.00000000e+00,\n",
       "         0.00000000e+00,  0.00000000e+00,  0.00000000e+00,  0.00000000e+00,\n",
       "         0.00000000e+00,  0.00000000e+00,  0.00000000e+00,  0.00000000e+00,\n",
       "         0.00000000e+00,  0.00000000e+00,  0.00000000e+00,  0.00000000e+00,\n",
       "         0.00000000e+00,  0.00000000e+00,  0.00000000e+00]),\n",
       " {})"
      ]
     },
     "execution_count": 3,
     "metadata": {},
     "output_type": "execute_result"
    }
   ],
   "source": [
    "env.reset()"
   ]
  },
  {
   "cell_type": "code",
   "execution_count": 6,
   "metadata": {},
   "outputs": [
    {
     "data": {
      "text/plain": [
       "(array([ 0.69050696,  0.99726254,  0.04755705,  0.05472814,  0.01451177,\n",
       "        -0.05317165,  0.08534441, -0.04699423, -0.01754622,  0.08578702,\n",
       "        -0.01937241,  0.06353813, -0.08665967,  0.06468372, -0.12878811,\n",
       "        -0.02992887,  0.02015827, -0.01134319,  0.01012089, -0.11686296,\n",
       "         0.21502218,  0.22070423, -0.1191653 , -0.02542226,  0.1285903 ,\n",
       "        -0.11816796,  0.15363186,  0.        ,  0.        ,  0.        ,\n",
       "         0.        ,  0.        ,  0.        ,  0.        ,  0.        ,\n",
       "         0.        ,  0.        ,  0.        ,  0.        ,  0.        ,\n",
       "         0.        ,  0.        ,  0.        ,  0.        ,  0.        ,\n",
       "         0.        ,  0.        ,  0.        ,  0.        ,  0.        ,\n",
       "         0.        ,  0.        ,  0.        ,  0.        ,  0.        ,\n",
       "         0.        ,  0.        ,  0.        ,  0.        ,  0.        ,\n",
       "         0.        ,  0.        ,  0.        ,  0.        ,  0.        ,\n",
       "         0.        ,  0.        ,  0.        ,  0.        ,  0.        ,\n",
       "         0.        ,  0.        ,  0.        ,  0.        ,  0.        ,\n",
       "         0.        ,  0.        ,  0.        ,  0.        ,  0.        ,\n",
       "         0.        ,  0.        ,  0.        ,  0.        ,  0.        ,\n",
       "         0.        ,  0.        ,  0.        ,  0.        ,  0.        ,\n",
       "         0.        ,  0.        ,  0.        ,  0.        ,  0.        ,\n",
       "         0.        ,  0.        ,  0.        ,  0.        ,  0.        ,\n",
       "         0.        ,  0.        ,  0.        ,  0.        ,  0.        ,\n",
       "         0.        ,  0.        ,  0.        ,  0.        ,  0.        ,\n",
       "         0.        ]),\n",
       " {})"
      ]
     },
     "execution_count": 6,
     "metadata": {},
     "output_type": "execute_result"
    }
   ],
   "source": [
    "pip uninstall "
   ]
  },
  {
   "cell_type": "code",
   "execution_count": 5,
   "metadata": {},
   "outputs": [
    {
     "name": "stdout",
     "output_type": "stream",
     "text": [
      "Collecting mujoco-py<2.2,>=2.1\n",
      "  Using cached mujoco_py-2.1.2.14-py3-none-any.whl (2.4 MB)\n",
      "Requirement already satisfied: imageio>=2.1.2 in /home/liu_xu/anaconda3/envs/main_use/lib/python3.7/site-packages (from mujoco-py<2.2,>=2.1) (2.25.0)\n",
      "Requirement already satisfied: Cython>=0.27.2 in /home/liu_xu/anaconda3/envs/main_use/lib/python3.7/site-packages (from mujoco-py<2.2,>=2.1) (0.29.33)\n",
      "Requirement already satisfied: numpy>=1.11 in /home/liu_xu/anaconda3/envs/main_use/lib/python3.7/site-packages (from mujoco-py<2.2,>=2.1) (1.21.5)\n",
      "Requirement already satisfied: cffi>=1.10 in /home/liu_xu/anaconda3/envs/main_use/lib/python3.7/site-packages (from mujoco-py<2.2,>=2.1) (1.15.1)\n",
      "Requirement already satisfied: fasteners~=0.15 in /home/liu_xu/anaconda3/envs/main_use/lib/python3.7/site-packages (from mujoco-py<2.2,>=2.1) (0.18)\n",
      "Requirement already satisfied: glfw>=1.4.0 in /home/liu_xu/anaconda3/envs/main_use/lib/python3.7/site-packages (from mujoco-py<2.2,>=2.1) (2.5.6)\n",
      "Requirement already satisfied: pycparser in /home/liu_xu/anaconda3/envs/main_use/lib/python3.7/site-packages (from cffi>=1.10->mujoco-py<2.2,>=2.1) (2.21)\n",
      "Requirement already satisfied: pillow>=8.3.2 in /home/liu_xu/anaconda3/envs/main_use/lib/python3.7/site-packages (from imageio>=2.1.2->mujoco-py<2.2,>=2.1) (9.2.0)\n",
      "Installing collected packages: mujoco-py\n",
      "Successfully installed mujoco-py-2.1.2.14\n",
      "Note: you may need to restart the kernel to use updated packages.\n"
     ]
    }
   ],
   "source": [
    "pip install -U 'mujoco-py<2.2,>=2.1'"
   ]
  },
  {
   "cell_type": "code",
   "execution_count": 6,
   "metadata": {},
   "outputs": [
    {
     "name": "stdout",
     "output_type": "stream",
     "text": [
      "\u001B[33mWARNING: Skipping mujoco as it is not installed.\u001B[0m\u001B[33m\n",
      "\u001B[0mNote: you may need to restart the kernel to use updated packages.\n"
     ]
    }
   ],
   "source": [
    "pip uninstall mujoco -y"
   ]
  }
 ],
 "metadata": {
  "kernelspec": {
   "display_name": "main_use",
   "language": "python",
   "name": "main_use"
  },
  "language_info": {
   "codemirror_mode": {
    "name": "ipython",
    "version": 3
   },
   "file_extension": ".py",
   "mimetype": "text/x-python",
   "name": "python",
   "nbconvert_exporter": "python",
   "pygments_lexer": "ipython3",
   "version": "3.7.6"
  }
 },
 "nbformat": 4,
 "nbformat_minor": 4
}
